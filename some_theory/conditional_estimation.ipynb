{
 "cells": [
  {
   "cell_type": "code",
   "execution_count": 96,
   "metadata": {},
   "outputs": [
    {
     "name": "stdout",
     "output_type": "stream",
     "text": [
      "2.6755697569159853\n",
      "0.7081900627374043\n"
     ]
    }
   ],
   "source": [
    "import numpy as np\n",
    "import sklearn.datasets as dst\n",
    "from numpy import linalg as LA\n",
    "\n",
    "class ConditionalGaussEstimator:\n",
    "    def __init__(self, A, mu_x, var_x):\n",
    "        self._A = A\n",
    "        self._A_T = self._A.transpose()\n",
    "        self._mu_x = mu_x\n",
    "        self._mu_y = self._A.dot(self._mu_x)\n",
    "        self._var_x = var_x\n",
    "        \n",
    "        if len(self._A) == 1:\n",
    "            self._var_y = 1.0 / self._A.dot(self._var_x).dot(self._A_T)\n",
    "        else:\n",
    "            self._var_y = LA.inv(A.dot(self._var_x).dot(self._A_T))\n",
    "        \n",
    "        self._Phi = self._var_x.dot(self._A_T).dot(self._var_y)\n",
    "        \n",
    "    def estimate(self, y):\n",
    "        return self._mu_x + self._Phi.dot(y - self._mu_y)\n",
    "    \n",
    "    def estimate_0(self, y):\n",
    "        return self._mu_x\n",
    "    \n",
    "def eigen_norm(A):\n",
    "    eigen_values, eigen_vectors = LA.eig(A)\n",
    "    return max([LA.norm(eigen_value) for eigen_value in eigen_values])\n",
    "\n",
    "\n",
    "\n",
    "\n",
    "nb_samples = 10000\n",
    "dim_x = 2\n",
    "dim_y = 1\n",
    "samples = np.zeros((nb_samples, 2, dim_x))\n",
    "        \n",
    "A = np.random.rand(dim_y,dim_x)\n",
    "\n",
    "A_T = A.transpose()\n",
    "mu_x = np.array([3.0, .5])\n",
    "var_x =  dst.make_spd_matrix(dim_x)\n",
    "\n",
    "cond_gauss_est = ConditionalGaussEstimator(A, mu_x, var_x)\n",
    "rnd_x = np.random.multivariate_normal(mu_x, var_x, nb_samples)\n",
    "\n",
    "check = True\n",
    "\n",
    "for i in range(0, nb_samples):\n",
    "    samples[i,0] = rnd_x[i]\n",
    "    y_i  = A.dot(rnd_x[i])\n",
    "    samples[i,1] = cond_gauss_est.estimate(A.dot(rnd_x[i]))\n",
    "    \n",
    "    if check:\n",
    "        assert LA.norm(y_i - A.dot(samples[i,1])) < 10e-5, 'Estimators is not contained in subspace!'\n",
    "\n",
    "var_0 = np.cov((samples[:,0]-mu_x).transpose())\n",
    "var_1 = np.cov((samples[:,1]-mu_x).transpose())\n",
    "\n",
    "#print(var_0)\n",
    "#print(var_x)\n",
    "#print(var_ext)\n",
    "    \n",
    "eigen_norm_0 = eigen_norm(var_0)\n",
    "print(eigen_norm_0)\n",
    "\n",
    "eigen_norm_1 = eigen_norm(var_1)\n",
    "print(eigen_norm_1)\n",
    "\n",
    "\n",
    "\n",
    "dim_x = 3\n",
    "dim_y = 2\n",
    "\n",
    "A = np.array([[+ 1.0, - 1.0, 4.0], [1.0, 1.0, .0]])\n",
    "mu_x = np.array([3.0, .5, -1.0])\n",
    "var_x =  dst.make_spd_matrix(dim_x)\n",
    "\n",
    "\n",
    "cond_gauss_est = ConditionalGaussEstimator(A, mu_x, var_x)\n",
    "rnd_x = np.random.multivariate_normal(mu_x, var_x, nb_samples)"
   ]
  },
  {
   "cell_type": "code",
   "execution_count": null,
   "metadata": {},
   "outputs": [],
   "source": []
  },
  {
   "cell_type": "code",
   "execution_count": null,
   "metadata": {},
   "outputs": [],
   "source": []
  }
 ],
 "metadata": {
  "kernelspec": {
   "display_name": "Python 3",
   "language": "python",
   "name": "python3"
  },
  "language_info": {
   "codemirror_mode": {
    "name": "ipython",
    "version": 3
   },
   "file_extension": ".py",
   "mimetype": "text/x-python",
   "name": "python",
   "nbconvert_exporter": "python",
   "pygments_lexer": "ipython3",
   "version": "3.8.3"
  }
 },
 "nbformat": 4,
 "nbformat_minor": 4
}
